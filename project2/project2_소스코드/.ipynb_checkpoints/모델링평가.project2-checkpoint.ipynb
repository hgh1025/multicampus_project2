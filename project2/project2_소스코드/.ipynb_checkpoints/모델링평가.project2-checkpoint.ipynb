{
 "cells": [
  {
   "cell_type": "code",
   "execution_count": 19,
   "id": "ca459cbc",
   "metadata": {},
   "outputs": [],
   "source": [
    "\n",
    "import os\n",
    "os.environ['OMP_NUM_THREADS'] = '1' # 엘보우 방식 그래프 시각화시 경고 대응\n",
    "\n",
    "import pandas as pd\n",
    "import numpy as np\n",
    "import matplotlib.pyplot as plt\n",
    "import matplotlib\n",
    "import seaborn as sns\n",
    "from sklearn.cluster import KMeans\n",
    "from sklearn.decomposition import PCA\n",
    "from sklearn.model_selection import cross_val_score\n",
    "\n",
    "#데이터 시각화 한글표시\n",
    "matplotlib.rcParams['font.family']='Malgun Gothic'"
   ]
  },
  {
   "cell_type": "code",
   "execution_count": 20,
   "id": "28382c6f",
   "metadata": {
    "scrolled": true
   },
   "outputs": [
    {
     "data": {
      "text/html": [
       "<div>\n",
       "<style scoped>\n",
       "    .dataframe tbody tr th:only-of-type {\n",
       "        vertical-align: middle;\n",
       "    }\n",
       "\n",
       "    .dataframe tbody tr th {\n",
       "        vertical-align: top;\n",
       "    }\n",
       "\n",
       "    .dataframe thead th {\n",
       "        text-align: right;\n",
       "    }\n",
       "</style>\n",
       "<table border=\"1\" class=\"dataframe\">\n",
       "  <thead>\n",
       "    <tr style=\"text-align: right;\">\n",
       "      <th></th>\n",
       "      <th>Unnamed: 0</th>\n",
       "      <th>연도</th>\n",
       "      <th>5대범죄</th>\n",
       "      <th>CCTV</th>\n",
       "      <th>인구밀도</th>\n",
       "      <th>가로등</th>\n",
       "      <th>경찰서수</th>\n",
       "      <th>여성인구</th>\n",
       "      <th>112신고건수</th>\n",
       "      <th>인구</th>\n",
       "      <th>...</th>\n",
       "      <th>성동구</th>\n",
       "      <th>성북구</th>\n",
       "      <th>송파구</th>\n",
       "      <th>양천구</th>\n",
       "      <th>영등포구</th>\n",
       "      <th>용산구</th>\n",
       "      <th>은평구</th>\n",
       "      <th>종로구</th>\n",
       "      <th>중구</th>\n",
       "      <th>중랑구</th>\n",
       "    </tr>\n",
       "  </thead>\n",
       "  <tbody>\n",
       "    <tr>\n",
       "      <th>170</th>\n",
       "      <td>170</td>\n",
       "      <td>2021</td>\n",
       "      <td>2381</td>\n",
       "      <td>228</td>\n",
       "      <td>10852</td>\n",
       "      <td>5789</td>\n",
       "      <td>19</td>\n",
       "      <td>114778</td>\n",
       "      <td>70794</td>\n",
       "      <td>237285</td>\n",
       "      <td>...</td>\n",
       "      <td>0</td>\n",
       "      <td>0</td>\n",
       "      <td>0</td>\n",
       "      <td>0</td>\n",
       "      <td>0</td>\n",
       "      <td>1</td>\n",
       "      <td>0</td>\n",
       "      <td>0</td>\n",
       "      <td>0</td>\n",
       "      <td>0</td>\n",
       "    </tr>\n",
       "    <tr>\n",
       "      <th>171</th>\n",
       "      <td>171</td>\n",
       "      <td>2021</td>\n",
       "      <td>3244</td>\n",
       "      <td>471</td>\n",
       "      <td>16061</td>\n",
       "      <td>12593</td>\n",
       "      <td>21</td>\n",
       "      <td>239230</td>\n",
       "      <td>91838</td>\n",
       "      <td>477173</td>\n",
       "      <td>...</td>\n",
       "      <td>0</td>\n",
       "      <td>0</td>\n",
       "      <td>0</td>\n",
       "      <td>0</td>\n",
       "      <td>0</td>\n",
       "      <td>0</td>\n",
       "      <td>1</td>\n",
       "      <td>0</td>\n",
       "      <td>0</td>\n",
       "      <td>0</td>\n",
       "    </tr>\n",
       "    <tr>\n",
       "      <th>172</th>\n",
       "      <td>172</td>\n",
       "      <td>2021</td>\n",
       "      <td>2712</td>\n",
       "      <td>0</td>\n",
       "      <td>6431</td>\n",
       "      <td>14351</td>\n",
       "      <td>23</td>\n",
       "      <td>77490</td>\n",
       "      <td>69511</td>\n",
       "      <td>153789</td>\n",
       "      <td>...</td>\n",
       "      <td>0</td>\n",
       "      <td>0</td>\n",
       "      <td>0</td>\n",
       "      <td>0</td>\n",
       "      <td>0</td>\n",
       "      <td>0</td>\n",
       "      <td>0</td>\n",
       "      <td>1</td>\n",
       "      <td>0</td>\n",
       "      <td>0</td>\n",
       "    </tr>\n",
       "    <tr>\n",
       "      <th>173</th>\n",
       "      <td>173</td>\n",
       "      <td>2021</td>\n",
       "      <td>2861</td>\n",
       "      <td>403</td>\n",
       "      <td>13231</td>\n",
       "      <td>14822</td>\n",
       "      <td>22</td>\n",
       "      <td>65653</td>\n",
       "      <td>127597</td>\n",
       "      <td>131787</td>\n",
       "      <td>...</td>\n",
       "      <td>0</td>\n",
       "      <td>0</td>\n",
       "      <td>0</td>\n",
       "      <td>0</td>\n",
       "      <td>0</td>\n",
       "      <td>0</td>\n",
       "      <td>0</td>\n",
       "      <td>0</td>\n",
       "      <td>1</td>\n",
       "      <td>0</td>\n",
       "    </tr>\n",
       "    <tr>\n",
       "      <th>174</th>\n",
       "      <td>174</td>\n",
       "      <td>2021</td>\n",
       "      <td>3210</td>\n",
       "      <td>448</td>\n",
       "      <td>21188</td>\n",
       "      <td>8126</td>\n",
       "      <td>17</td>\n",
       "      <td>193943</td>\n",
       "      <td>84004</td>\n",
       "      <td>391885</td>\n",
       "      <td>...</td>\n",
       "      <td>0</td>\n",
       "      <td>0</td>\n",
       "      <td>0</td>\n",
       "      <td>0</td>\n",
       "      <td>0</td>\n",
       "      <td>0</td>\n",
       "      <td>0</td>\n",
       "      <td>0</td>\n",
       "      <td>0</td>\n",
       "      <td>1</td>\n",
       "    </tr>\n",
       "  </tbody>\n",
       "</table>\n",
       "<p>5 rows × 35 columns</p>\n",
       "</div>"
      ],
      "text/plain": [
       "     Unnamed: 0    연도  5대범죄  CCTV   인구밀도    가로등  경찰서수    여성인구  112신고건수  \\\n",
       "170         170  2021  2381   228  10852   5789    19  114778    70794   \n",
       "171         171  2021  3244   471  16061  12593    21  239230    91838   \n",
       "172         172  2021  2712     0   6431  14351    23   77490    69511   \n",
       "173         173  2021  2861   403  13231  14822    22   65653   127597   \n",
       "174         174  2021  3210   448  21188   8126    17  193943    84004   \n",
       "\n",
       "         인구  ...  성동구  성북구  송파구  양천구  영등포구  용산구  은평구  종로구  중구  중랑구  \n",
       "170  237285  ...    0    0    0    0     0    1    0    0   0    0  \n",
       "171  477173  ...    0    0    0    0     0    0    1    0   0    0  \n",
       "172  153789  ...    0    0    0    0     0    0    0    1   0    0  \n",
       "173  131787  ...    0    0    0    0     0    0    0    0   1    0  \n",
       "174  391885  ...    0    0    0    0     0    0    0    0   0    1  \n",
       "\n",
       "[5 rows x 35 columns]"
      ]
     },
     "execution_count": 20,
     "metadata": {},
     "output_type": "execute_result"
    }
   ],
   "source": [
    "df_total_onehot= pd.read_csv('C:/multicampus/project2/데이터 전처리/final_onehot.csv', encoding='utf-8' )\n",
    "df_total_onehot.tail()\n",
    "           "
   ]
  },
  {
   "cell_type": "code",
   "execution_count": 21,
   "id": "d8dfc1b0",
   "metadata": {},
   "outputs": [],
   "source": [
    " \n",
    "X=df_total_onehot.drop('112신고건수',axis=1).values \n",
    "y=df_total_onehot['112신고건수'].values \n"
   ]
  },
  {
   "cell_type": "code",
   "execution_count": 22,
   "id": "95fc4aeb",
   "metadata": {},
   "outputs": [],
   "source": [
    "#훈련세트와 테스트 세트로 분류\n",
    "from sklearn.model_selection import train_test_split\n",
    "X_train, X_test, y_train, y_test = train_test_split(X, y, test_size=0.3, random_state=0)\n"
   ]
  },
  {
   "cell_type": "code",
   "execution_count": 23,
   "id": "d4f4abf5",
   "metadata": {},
   "outputs": [],
   "source": [
    "# LinearRegression"
   ]
  },
  {
   "cell_type": "code",
   "execution_count": 24,
   "id": "e9c6ccb3",
   "metadata": {},
   "outputs": [
    {
     "name": "stdout",
     "output_type": "stream",
     "text": [
      "0.985881389645129\n",
      "0.9886622715744906\n"
     ]
    }
   ],
   "source": [
    "from sklearn.linear_model import LinearRegression\n",
    "from sklearn.metrics import accuracy_score\n",
    "reg = LinearRegression()\n",
    "reg.fit(X_train,y_train)\n",
    "y_test_pred=reg.predict(X_test)\n",
    "print(reg.score(X_test,y_test))\n",
    "scores = cross_val_score(reg, X, y) #, cv=4\n",
    "print(scores.mean())\n"
   ]
  },
  {
   "cell_type": "code",
   "execution_count": 25,
   "id": "25b105d8",
   "metadata": {
    "scrolled": true
   },
   "outputs": [],
   "source": [
    "#### decisiontree"
   ]
  },
  {
   "cell_type": "code",
   "execution_count": 26,
   "id": "7e56fd42",
   "metadata": {
    "scrolled": false
   },
   "outputs": [
    {
     "name": "stdout",
     "output_type": "stream",
     "text": [
      "0.6262620705649278\n",
      "0.7851125057471489\n"
     ]
    }
   ],
   "source": [
    "from sklearn.tree import DecisionTreeRegressor\n",
    "regr = DecisionTreeRegressor(random_state=11)\n",
    "# 학습 수행 \n",
    "regr.fit(X_train, y_train)\n",
    "y_test_pred=regr.predict(X_test)\n",
    "print(regr.score(X_test,y_test))\n",
    "scores1 = cross_val_score(regr, X, y)\n",
    "print(scores1.mean())"
   ]
  },
  {
   "cell_type": "code",
   "execution_count": 27,
   "id": "df267a98",
   "metadata": {},
   "outputs": [],
   "source": [
    "#RandomForestRegressor\n"
   ]
  },
  {
   "cell_type": "code",
   "execution_count": 28,
   "id": "adeba9fe",
   "metadata": {},
   "outputs": [
    {
     "name": "stdout",
     "output_type": "stream",
     "text": [
      "0.7051077303532769\n",
      "0.8640409562109177\n"
     ]
    }
   ],
   "source": [
    "from sklearn.ensemble import RandomForestRegressor\n",
    "\n",
    "regr1 = RandomForestRegressor(max_depth=100, random_state=0)\n",
    "regr1.fit(X_train, y_train)\n",
    "\n",
    "y_test_pred=regr1.predict(X_test)\n",
    "regr1.score(X_test,y_test)\n",
    "print(regr1.score(X_test,y_test))\n",
    "scores2 = cross_val_score(regr1, X, y)\n",
    "print(scores2.mean())"
   ]
  },
  {
   "cell_type": "code",
   "execution_count": 29,
   "id": "9e285e16",
   "metadata": {},
   "outputs": [],
   "source": [
    "#AdaBoostRegressor"
   ]
  },
  {
   "cell_type": "code",
   "execution_count": 30,
   "id": "e9ed6c59",
   "metadata": {},
   "outputs": [
    {
     "name": "stdout",
     "output_type": "stream",
     "text": [
      "0.7972471706115785\n",
      "0.8700413751552254\n"
     ]
    }
   ],
   "source": [
    "from sklearn.ensemble import AdaBoostRegressor\n",
    "\n",
    "regr2 = AdaBoostRegressor(random_state=0, n_estimators=100)\n",
    "regr2.fit(X_train, y_train)\n",
    "\n",
    "y_test_pred=regr2.predict(X_test)\n",
    "regr2.score(X_test,y_test)\n",
    "print(regr2.score(X_test,y_test))\n",
    "scores3 = cross_val_score(regr2, X, y)\n",
    "print(scores3.mean())"
   ]
  },
  {
   "cell_type": "code",
   "execution_count": 31,
   "id": "f4fe346d",
   "metadata": {},
   "outputs": [
    {
     "name": "stderr",
     "output_type": "stream",
     "text": [
      "No artists with labels found to put in legend.  Note that artists whose label start with an underscore are ignored when legend() is called with no argument.\n"
     ]
    },
    {
     "data": {
      "image/png": "[encoded data removed]",
      "text/plain": [
       "<Figure size 1440x720 with 1 Axes>"
      ]
     },
     "metadata": {
      "needs_background": "light"
     },
     "output_type": "display_data"
    }
   ],
   "source": [
    "import numpy as np\n",
    "plt.rc('font', family='Malgun Gothic')\n",
    "plt.rcParams['font.size'] = 15\n",
    "plt.figure(figsize=(20,10))\n",
    "x_models=np.arange(4)\n",
    "plt.xticks(x_models, ['LinearRegression','decisiontree','AdaBoostRegressor','RandomForestRegressor'])\n",
    "plt.bar(x_models, height= [0.988,0.785,0.87,0.86], width=0.7)\n",
    "plt.legend(title=\"모델 평가\", shadow=True, frameon=True, loc='best',fontsize=10)\n",
    "plt.xlabel('모델 종류')\n",
    "plt.ylabel('교차 검증 평균 점수')\n",
    "\n",
    "plt.show()"
   ]
  },
  {
   "cell_type": "code",
   "execution_count": null,
   "id": "2a86c71e",
   "metadata": {},
   "outputs": [],
   "source": []
  },
  {
   "cell_type": "code",
   "execution_count": null,
   "id": "0426ef6e",
   "metadata": {},
   "outputs": [],
   "source": []
  }
 ],
 "metadata": {
  "kernelspec": {
   "display_name": "Python 3 (ipykernel)",
   "language": "python",
   "name": "python3"
  },
  "language_info": {
   "codemirror_mode": {
    "name": "ipython",
    "version": 3
   },
   "file_extension": ".py",
   "mimetype": "text/x-python",
   "name": "python",
   "nbconvert_exporter": "python",
   "pygments_lexer": "ipython3",
   "version": "3.9.12"
  }
 },
 "nbformat": 4,
 "nbformat_minor": 5
}
